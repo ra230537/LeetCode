{
 "cells": [
  {
   "cell_type": "code",
   "execution_count": null,
   "id": "52dcb395",
   "metadata": {},
   "outputs": [
    {
     "name": "stdout",
     "output_type": "stream",
     "text": [
      "4\n"
     ]
    }
   ],
   "source": [
    "# algoritmo guloso que basicamente pega o maximo de lucro de um dia para o outro\n",
    "def main(prices: list[int]):\n",
    "    profit = 0\n",
    "\n",
    "    for i in range(len(prices)-1):\n",
    "        if (prices[i] < prices[i+1]):\n",
    "            profit += prices[i+1] - prices[i]            \n",
    "    return profit\n",
    "\n",
    "\n",
    "print(main([1,2,3,4,5]))"
   ]
  }
 ],
 "metadata": {
  "kernelspec": {
   "display_name": "base",
   "language": "python",
   "name": "python3"
  },
  "language_info": {
   "codemirror_mode": {
    "name": "ipython",
    "version": 3
   },
   "file_extension": ".py",
   "mimetype": "text/x-python",
   "name": "python",
   "nbconvert_exporter": "python",
   "pygments_lexer": "ipython3",
   "version": "3.12.3"
  }
 },
 "nbformat": 4,
 "nbformat_minor": 5
}
